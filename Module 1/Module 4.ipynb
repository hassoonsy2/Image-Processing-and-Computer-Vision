{
 "cells": [
  {
   "cell_type": "markdown",
   "id": "0594ddca",
   "metadata": {},
   "source": [
    "## Opdrachten Classificatie, Segmentatie, Object Recognition\n",
    "### Student : Hussin Almoustafa \n",
    "### Studentnummer : 1776495"
   ]
  },
  {
   "cell_type": "code",
   "execution_count": 1,
   "id": "291a217c",
   "metadata": {},
   "outputs": [
    {
     "name": "stdout",
     "output_type": "stream",
     "text": [
      "[[ 0.  0.  5. ...  0.  0.  0.]\n",
      " [ 0.  0.  0. ... 10.  0.  0.]\n",
      " [ 0.  0.  0. ... 16.  9.  0.]\n",
      " ...\n",
      " [ 0.  0.  1. ...  6.  0.  0.]\n",
      " [ 0.  0.  2. ... 12.  0.  0.]\n",
      " [ 0.  0. 10. ... 12.  1.  0.]]\n",
      "[0 1 2 ... 8 9 8]\n",
      "[0]\n"
     ]
    },
    {
     "data": {
      "image/png": "[encoded data removed]",
      "text/plain": [
       "<Figure size 432x288 with 1 Axes>"
      ]
     },
     "metadata": {
      "needs_background": "light"
     },
     "output_type": "display_data"
    }
   ],
   "source": [
    "import matplotlib.pyplot as plt\n",
    "from sklearn import datasets\n",
    "from sklearn import svm\n",
    "\n",
    "digits = datasets.load_digits()\n",
    "print(digits.data)\n",
    "print(digits.target)\n",
    "\n",
    "clf = svm.SVC(gamma=0.001, C=100)\n",
    "X,y = digits.data[:-10], digits.target[:-10]\n",
    "clf.fit(X,y)\n",
    "\n",
    "print(clf.predict(digits.data[-4:-3])) #Beetje flauw, maar hij wil perse 2d-array hebben ook als er maar 1 element inzit\n",
    "plt.imshow(digits.images[-4], cmap=plt.cm.gray_r, interpolation='nearest')\n",
    "plt.show()"
   ]
  },
  {
   "cell_type": "markdown",
   "id": "e5c6c4aa",
   "metadata": {},
   "source": [
    "Opdracht 1 : Om de data willekeurig te splitsen in ongeveer tweederde trainingsdata en eenderde testdata, kunnen we de train_test_split functie van scikit-learn gebruiken"
   ]
  },
  {
   "cell_type": "code",
   "execution_count": 4,
   "id": "c4a5abe5",
   "metadata": {},
   "outputs": [],
   "source": [
    "from sklearn.model_selection import train_test_split\n",
    "\n",
    "digits = datasets.load_digits()\n",
    "\n",
    "# Willekeurige splitsing in tweederde trainingsdata en eenderde testdata\n",
    "X_train, X_test, y_train, y_test = train_test_split(digits.data, digits.target, test_size=1/3, random_state=42)"
   ]
  },
  {
   "cell_type": "markdown",
   "id": "ebce7b5a",
   "metadata": {},
   "source": [
    "Opdracht 2:\n",
    "\n",
    "Om de nauwkeurigheid van de SVM-classificator te meten, trainen we deze opnieuw met de nieuwe trainingsdata en vergelijken we de voorspellingen met de werkelijke waarden uit de testdata."
   ]
  },
  {
   "cell_type": "code",
   "execution_count": 5,
   "id": "5da31c17",
   "metadata": {},
   "outputs": [
    {
     "name": "stdout",
     "output_type": "stream",
     "text": [
      "Accuracy: 99.00%\n"
     ]
    }
   ],
   "source": [
    "clf = svm.SVC(gamma=0.001, C=100)\n",
    "\n",
    "# Train de SVM classifier op de trainingsdata\n",
    "clf.fit(X_train, y_train)\n",
    "\n",
    "# Voorspel labels voor de testdata\n",
    "y_pred = clf.predict(X_test)\n",
    "\n",
    "# Bereken de nauwkeurigheid\n",
    "accuracy = sum(y_pred == y_test) / len(y_test)\n",
    "print(f\"Accuracy: {accuracy * 100:.2f}%\")"
   ]
  },
  {
   "cell_type": "code",
   "execution_count": null,
   "id": "af8b5d31",
   "metadata": {},
   "outputs": [],
   "source": []
  }
 ],
 "metadata": {
  "kernelspec": {
   "display_name": "Python 3 (ipykernel)",
   "language": "python",
   "name": "python3"
  },
  "language_info": {
   "codemirror_mode": {
    "name": "ipython",
    "version": 3
   },
   "file_extension": ".py",
   "mimetype": "text/x-python",
   "name": "python",
   "nbconvert_exporter": "python",
   "pygments_lexer": "ipython3",
   "version": "3.8.5"
  }
 },
 "nbformat": 4,
 "nbformat_minor": 5
}
