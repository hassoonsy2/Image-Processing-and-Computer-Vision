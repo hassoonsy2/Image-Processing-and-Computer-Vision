{
 "cells": [
  {
   "cell_type": "markdown",
   "id": "c61f1a85",
   "metadata": {},
   "source": [
    "# Opdrachten Convoluties\n",
    "### Student : Hussin Almoustafa \n",
    "### Studentnummer : 1776495"
   ]
  },
  {
   "cell_type": "code",
   "execution_count": 5,
   "id": "90a6be24",
   "metadata": {},
   "outputs": [],
   "source": [
    "from skimage import data, filters\n",
    "from skimage.viewer import ImageViewer\n",
    "import scipy\n",
    "from scipy import ndimage\n",
    "import numpy as np\n"
   ]
  },
  {
   "cell_type": "code",
   "execution_count": 6,
   "id": "02ded64e",
   "metadata": {},
   "outputs": [
    {
     "name": "stderr",
     "output_type": "stream",
     "text": [
      "C:\\Users\\hasso\\AppData\\Local\\Temp\\ipykernel_19960\\1262232374.py:2: FutureWarning: `viewer` is deprecated and will be removed in 0.20. For alternatives, refer to https://scikit-image.org/docs/stable/user_guide/visualization.html\n",
      "  viewer = ImageViewer(image)\n",
      "C:\\Users\\hasso\\AppData\\Local\\Temp\\ipykernel_19960\\1262232374.py:7: FutureWarning: `viewer` is deprecated and will be removed in 0.20. For alternatives, refer to https://scikit-image.org/docs/stable/user_guide/visualization.html\n",
      "  viewer = ImageViewer(newimage)\n"
     ]
    },
    {
     "data": {
      "text/plain": [
       "[]"
      ]
     },
     "execution_count": 6,
     "metadata": {},
     "output_type": "execute_result"
    }
   ],
   "source": [
    "image = data.camera()\n",
    "viewer = ImageViewer(image)\n",
    "viewer.show()\n",
    "mask1=[[1/9,1/9,1/9],[1/9,1/9,1/9],[1/9,1/9,1/9]]\n",
    "newimage=scipy.ndimage.convolve(image, mask1)\n",
    "newimage=scipy.ndimage.convolve(newimage, mask1)\n",
    "viewer = ImageViewer(newimage)\n",
    "viewer.show()"
   ]
  },
  {
   "cell_type": "markdown",
   "id": "29e7a7ad",
   "metadata": {},
   "source": [
    "Opdracht 1: Pas de code aan om edge detection te doen met drie verschillende filters.\n",
    "\n"
   ]
  },
  {
   "cell_type": "code",
   "execution_count": 7,
   "id": "e6c0aa06",
   "metadata": {},
   "outputs": [
    {
     "name": "stderr",
     "output_type": "stream",
     "text": [
      "C:\\Users\\hasso\\AppData\\Local\\Temp\\ipykernel_19960\\2493786789.py:9: FutureWarning: `viewer` is deprecated and will be removed in 0.20. For alternatives, refer to https://scikit-image.org/docs/stable/user_guide/visualization.html\n",
      "  viewer1 = ImageViewer(new_image1)\n",
      "C:\\Users\\hasso\\AppData\\Local\\Temp\\ipykernel_19960\\2493786789.py:11: FutureWarning: `viewer` is deprecated and will be removed in 0.20. For alternatives, refer to https://scikit-image.org/docs/stable/user_guide/visualization.html\n",
      "  viewer2 = ImageViewer(new_image2)\n",
      "C:\\Users\\hasso\\AppData\\Local\\Temp\\ipykernel_19960\\2493786789.py:13: FutureWarning: `viewer` is deprecated and will be removed in 0.20. For alternatives, refer to https://scikit-image.org/docs/stable/user_guide/visualization.html\n",
      "  viewer3 = ImageViewer(new_image3)\n"
     ]
    },
    {
     "data": {
      "text/plain": [
       "[]"
      ]
     },
     "execution_count": 7,
     "metadata": {},
     "output_type": "execute_result"
    }
   ],
   "source": [
    "edge_filter1 = np.array([[-1, -1, -1], [-1, 8, -1], [-1, -1, -1]])\n",
    "edge_filter2 = np.array([[-1, 0, 1], [-2, 0, 2], [-1, 0, 1]])\n",
    "edge_filter3 = np.array([[1, 0, -1], [0, 0, 0], [-1, 0, 1]])\n",
    "\n",
    "new_image1 = scipy.ndimage.convolve(image, edge_filter1)\n",
    "new_image2 = scipy.ndimage.convolve(image, edge_filter2)\n",
    "new_image3 = scipy.ndimage.convolve(image, edge_filter3)\n",
    "\n",
    "viewer1 = ImageViewer(new_image1)\n",
    "viewer1.show()\n",
    "viewer2 = ImageViewer(new_image2)\n",
    "viewer2.show()\n",
    "viewer3 = ImageViewer(new_image3)\n",
    "viewer3.show()"
   ]
  },
  {
   "cell_type": "markdown",
   "id": "54bd57de",
   "metadata": {},
   "source": [
    "Opdracht 2: Gebruik 3 verschillende edge detection methoden uit skimage.filters.\n",
    "\n"
   ]
  },
  {
   "cell_type": "code",
   "execution_count": 8,
   "id": "e31587fc",
   "metadata": {},
   "outputs": [
    {
     "name": "stderr",
     "output_type": "stream",
     "text": [
      "C:\\Users\\hasso\\AppData\\Local\\Temp\\ipykernel_19960\\623579461.py:7: FutureWarning: `viewer` is deprecated and will be removed in 0.20. For alternatives, refer to https://scikit-image.org/docs/stable/user_guide/visualization.html\n",
      "  viewer_sobel = ImageViewer(sobel_image)\n",
      "C:\\Users\\hasso\\AppData\\Local\\Temp\\ipykernel_19960\\623579461.py:9: FutureWarning: `viewer` is deprecated and will be removed in 0.20. For alternatives, refer to https://scikit-image.org/docs/stable/user_guide/visualization.html\n",
      "  viewer_prewitt = ImageViewer(prewitt_image)\n",
      "C:\\Users\\hasso\\AppData\\Local\\Temp\\ipykernel_19960\\623579461.py:11: FutureWarning: `viewer` is deprecated and will be removed in 0.20. For alternatives, refer to https://scikit-image.org/docs/stable/user_guide/visualization.html\n",
      "  viewer_roberts = ImageViewer(roberts_image)\n"
     ]
    },
    {
     "data": {
      "text/plain": [
       "[]"
      ]
     },
     "execution_count": 8,
     "metadata": {},
     "output_type": "execute_result"
    }
   ],
   "source": [
    "from skimage.filters import sobel, prewitt, roberts\n",
    "\n",
    "sobel_image = sobel(image)\n",
    "prewitt_image = prewitt(image)\n",
    "roberts_image = roberts(image)\n",
    "\n",
    "viewer_sobel = ImageViewer(sobel_image)\n",
    "viewer_sobel.show()\n",
    "viewer_prewitt = ImageViewer(prewitt_image)\n",
    "viewer_prewitt.show()\n",
    "viewer_roberts = ImageViewer(roberts_image)\n",
    "viewer_roberts.show()"
   ]
  },
  {
   "cell_type": "markdown",
   "id": "93f08da0",
   "metadata": {},
   "source": [
    "Opdracht 3: Gebruik Canny edge detection op het camerabeeld of een zelfgekozen zwart-wit afbeelding.\n"
   ]
  },
  {
   "cell_type": "code",
   "execution_count": 9,
   "id": "4ceea3fc",
   "metadata": {},
   "outputs": [
    {
     "data": {
      "image/png": "[encoded data removed]",
      "text/plain": [
       "<Figure size 432x288 with 1 Axes>"
      ]
     },
     "metadata": {
      "needs_background": "light"
     },
     "output_type": "display_data"
    }
   ],
   "source": [
    "import matplotlib.pyplot as plt\n",
    "from skimage.feature import canny\n",
    "\n",
    "canny_image = canny(image, sigma=3, low_threshold=10, high_threshold=80)\n",
    "\n",
    "plt.imshow(canny_image, cmap='gray')\n",
    "plt.title('Canny Edge Detection')\n",
    "plt.show()\n"
   ]
  },
  {
   "cell_type": "code",
   "execution_count": null,
   "id": "6c02406c",
   "metadata": {},
   "outputs": [],
   "source": []
  }
 ],
 "metadata": {
  "kernelspec": {
   "display_name": "Python 3 (ipykernel)",
   "language": "python",
   "name": "python3"
  },
  "language_info": {
   "codemirror_mode": {
    "name": "ipython",
    "version": 3
   },
   "file_extension": ".py",
   "mimetype": "text/x-python",
   "name": "python",
   "nbconvert_exporter": "python",
   "pygments_lexer": "ipython3",
   "version": "3.8.5"
  }
 },
 "nbformat": 4,
 "nbformat_minor": 5
}
